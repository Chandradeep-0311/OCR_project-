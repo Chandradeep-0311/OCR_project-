{
 "cells": [
  {
   "cell_type": "code",
   "execution_count": null,
   "metadata": {},
   "outputs": [],
   "source": [
    "########## Importing libraries ##############"
   ]
  },
  {
   "cell_type": "code",
   "execution_count": null,
   "metadata": {},
   "outputs": [],
   "source": [
    "import re\n",
    "import os\n",
    "import io\n",
    "import sys\n",
    "import csv\n",
    "import cv2 as cv\n",
    "import pytesseract\n",
    "import numpy as np\n",
    "from PIL import Image\n",
    "from subprocess import Popen, PIPE"
   ]
  },
  {
   "cell_type": "code",
   "execution_count": null,
   "metadata": {},
   "outputs": [],
   "source": [
    "########## Displays the image ########\n",
    "def show(title, img):\n",
    "    cv.imshow(title,img)\n",
    "    key = cv.waitKey(0)\n",
    "    cv.destroyAllWindows()"
   ]
  },
  {
   "cell_type": "code",
   "execution_count": null,
   "metadata": {},
   "outputs": [],
   "source": [
    "######### Converting Images to JPG formats #############"
   ]
  },
  {
   "cell_type": "code",
   "execution_count": null,
   "metadata": {},
   "outputs": [],
   "source": [
    "def convert(folder, image, ext):\n",
    "name = image.split('.')[0]\n",
    "\n",
    "print \"Converting \"+image+\" to \"+name+\".jpg\"\n",
    "try:\n",
    "    if ext=='png':\n",
    "    img = cv.imread(folder+image)\n",
    "    cv.imwrite(folder+name+'.jpg', img)\n",
    "\n",
    "elif ext=='gif':\n",
    "    img = Image.open(folder+image)\n",
    "    img.convert('RGB').save(folder+name+'.jpg')\n",
    "\n",
    "print \"\\t DONE\"\n",
    "    os.system('rm '+folder+image)\n",
    "        except:\n",
    "    print \"\\t FAIL\""
   ]
  },
  {
   "cell_type": "code",
   "execution_count": null,
   "metadata": {},
   "outputs": [],
   "source": [
    "######### Resizing the image to 900*600 ########### "
   ]
  },
  {
   "cell_type": "code",
   "execution_count": null,
   "metadata": {},
   "outputs": [],
   "source": [
    "def resize(folder, files):\n",
    "    print \"\\n\\n\"\n",
    "        for image in files:\n",
    "        print \"Resizing \"+image\n",
    "    try:\n",
    "        img = cv.imread(folder+image)\n",
    "\n",
    "        if img.shape[1]>img.shape[0]:\n",
    "            img = cv.resize(img, (900,600))\n",
    "            else:\n",
    "                img = cv.resize(img, (600,900))\n",
    "\n",
    "            os.system('rm '+folder+image)\n",
    "            cv.imwrite(folder+image, img)\n",
    "        except:\n",
    "            print \"\\t FAIL\""
   ]
  },
  {
   "cell_type": "code",
   "execution_count": null,
   "metadata": {},
   "outputs": [],
   "source": [
    "######## Checks if the images in given folder are in JPG formate, If not sends the image to convert function ########"
   ]
  },
  {
   "cell_type": "code",
   "execution_count": null,
   "metadata": {},
   "outputs": [],
   "source": [
    "def normalize(folder, files):\n",
    "    for image in files:\n",
    "        ext = image.split('.')[1]\n",
    "        if not ext=='jpg':\n",
    "            convert(folder, image, ext)\n",
    "    files = os.listdir(folder)\n",
    "\n",
    "    resize(folder, files)\n",
    "    return files"
   ]
  },
  {
   "cell_type": "code",
   "execution_count": null,
   "metadata": {},
   "outputs": [],
   "source": [
    "######## EXTRACTING THE TEXT FROM IMAGE ######"
   ]
  },
  {
   "cell_type": "code",
   "execution_count": null,
   "metadata": {},
   "outputs": [],
   "source": [
    "def image_to_string(folder, jpg_images): \n",
    "    results = []\n",
    "    for image in jpg_images:\n",
    "        print \"Processing \", image\n",
    "        try:\n",
    "            text = pytesseract.image_to_string(Image.open(folder+image))\n",
    "            results.append(text)\n",
    "        except:\n",
    "            print \"\\t FAIL\"\n",
    "\n",
    "    return results\n"
   ]
  },
  {
   "cell_type": "code",
   "execution_count": null,
   "metadata": {},
   "outputs": [],
   "source": [
    "####### END RESULTS ##########"
   ]
  },
  {
   "cell_type": "code",
   "execution_count": null,
   "metadata": {},
   "outputs": [],
   "source": [
    "if __name__ == '__main__':\n",
    "    folder = sys.argv[1].strip('/')\n",
    "    folder = folder+'/'\n",
    "    files = os.listdir(folder)\n",
    "    jpg_images = normalize(folder, files)\n",
    "\n",
    "        print \"##### ALL #####\"\n",
    "        print files\n",
    "        print \"##### JPGs #####\"\n",
    "        print jpg_images\n",
    "\n",
    "results = image_to_string(folder, jpg_images)\n",
    "    for result in results:\n",
    "    with io.open('results.txt', 'a', encoding='utf-8') as f:\n",
    "        f.write(unicode('\\n\\n###########################################\\n'))\n",
    "            f.write(result)"
   ]
  }
 ],
 "metadata": {
  "kernelspec": {
   "display_name": "Python 3",
   "language": "python",
   "name": "python3"
  },
  "language_info": {
   "codemirror_mode": {
    "name": "ipython",
    "version": 3
   },
   "file_extension": ".py",
   "mimetype": "text/x-python",
   "name": "python",
   "nbconvert_exporter": "python",
   "pygments_lexer": "ipython3",
   "version": "3.6.4"
  }
 },
 "nbformat": 4,
 "nbformat_minor": 2
}
