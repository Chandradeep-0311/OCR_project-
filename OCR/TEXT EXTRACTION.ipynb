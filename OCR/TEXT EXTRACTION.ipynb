{
 "cells": [
  {
   "cell_type": "code",
   "execution_count": null,
   "metadata": {},
   "outputs": [],
   "source": [
    "##### Importing libraries ######"
   ]
  },
  {
   "cell_type": "code",
   "execution_count": 2,
   "metadata": {},
   "outputs": [],
   "source": [
    "from PIL import Image\n",
    "import pytesseract"
   ]
  },
  {
   "cell_type": "code",
   "execution_count": null,
   "metadata": {},
   "outputs": [],
   "source": [
    "######### READING IMAGE ###########"
   ]
  },
  {
   "cell_type": "code",
   "execution_count": 4,
   "metadata": {},
   "outputs": [],
   "source": [
    "img = Image.open(\"2.jpeg\")"
   ]
  },
  {
   "cell_type": "code",
   "execution_count": null,
   "metadata": {},
   "outputs": [],
   "source": [
    "######### RUNNING TESSERACT PATH ######"
   ]
  },
  {
   "cell_type": "code",
   "execution_count": 5,
   "metadata": {},
   "outputs": [],
   "source": [
    "pytesseract.pytesseract.tesseract_cmd = 'C:/Program Files (x86)/Tesseract-OCR/tesseract'"
   ]
  },
  {
   "cell_type": "code",
   "execution_count": null,
   "metadata": {},
   "outputs": [],
   "source": [
    "########## EXTRACTING TEXT FROM IMAGE ###########"
   ]
  },
  {
   "cell_type": "code",
   "execution_count": 6,
   "metadata": {},
   "outputs": [],
   "source": [
    "result = pytesseract.image_to_string(img)"
   ]
  },
  {
   "cell_type": "code",
   "execution_count": 7,
   "metadata": {},
   "outputs": [
    {
     "name": "stdout",
     "output_type": "stream",
     "text": [
      ". Click-N-Ship®\n",
      "\n",
      " 0703 S555 7490 9437 1M10D5160010012 0280\n",
      "\n",
      "INSURED\n",
      "Us POSYAGE \n",
      "\n",
      "03/2304 1 lb 0 oz Milled from 2203 OTIVDOSOIES\n",
      "\n",
      "USPS PRIORITY MAlL®\n",
      "\n",
      "SUN N PATEL\n",
      "1 23 AVENU E\n",
      "ARLINGTON VA 22203\n",
      "\n",
      "        \n",
      "\n",
      " \n",
      "\n",
      "  \n",
      "         \n",
      " \n",
      "           \n",
      "     \n",
      "    \n",
      "\n",
      "  \n",
      "\n",
      "SHIP '\n",
      "T0;CARlN DOPIERALSKI\n",
      "RM 425\n",
      "475 LENFANT PLZ SW\n",
      "\n",
      "WASHINGTON DC 20260-0004\n",
      "InI-l!luml.|.|l.ullmllu.|I...|Im.l..l|.|..|.|u|..|.l\n",
      "\n",
      "ZIP - el USPS DELIVERY CONFIRMATION“\n",
      "\n",
      "llﬂlllllll II\n",
      "\n",
      "420 20260 9107 0385 5574 9094 3718 41\n",
      "\n",
      "Eleétronic Rate Approved #038555749\n",
      "\n",
      "Colon\n"
     ]
    }
   ],
   "source": [
    "print(result)"
   ]
  },
  {
   "cell_type": "code",
   "execution_count": 8,
   "metadata": {},
   "outputs": [],
   "source": [
    "import io\n",
    "with io.open(\"ocr.txt\", \"w\", encoding=\"utf-8\") as f:\n",
    "    f.write(result)"
   ]
  },
  {
   "cell_type": "code",
   "execution_count": 9,
   "metadata": {},
   "outputs": [
    {
     "name": "stdout",
     "output_type": "stream",
     "text": [
      ". Click-N-Ship®\n",
      "\n",
      " 0703 S555 7490 9437 1M10D5160010012 0280\n",
      "\n",
      "INSURED\n",
      "Us POSYAGE \n",
      "\n",
      "03/2304 1 lb 0 oz Milled from 2203 OTIVDOSOIES\n",
      "\n",
      "USPS PRIORITY MAlL®\n",
      "\n",
      "SUN N PATEL\n",
      "1 23 AVENU E\n",
      "ARLINGTON VA 22203\n",
      "\n",
      "        \n",
      "\n",
      " \n",
      "\n",
      "  \n",
      "         \n",
      " \n",
      "           \n",
      "     \n",
      "    \n",
      "\n",
      "  \n",
      "\n",
      "SHIP '\n",
      "T0;CARlN DOPIERALSKI\n",
      "RM 425\n",
      "475 LENFANT PLZ SW\n",
      "\n",
      "WASHINGTON DC 20260-0004\n",
      "InI-l!luml.|.|l.ullmllu.|I...|Im.l..l|.|..|.|u|..|.l\n",
      "\n",
      "ZIP - el USPS DELIVERY CONFIRMATION“\n",
      "\n",
      "llﬂlllllll II\n",
      "\n",
      "420 20260 9107 0385 5574 9094 3718 41\n",
      "\n",
      "Eleétronic Rate Approved #038555749\n",
      "\n",
      "Colon\n"
     ]
    }
   ],
   "source": [
    "in_file = open(\"ocr.txt\", \"rt\",encoding=\"utf-8\") # open file lorem.txt for reading text data\n",
    "contents = in_file.read()         # read the entire file into a string variable\n",
    "in_file.close()                   # close the file\n",
    "print(contents)  \t\t          # print contents"
   ]
  },
  {
   "cell_type": "code",
   "execution_count": 10,
   "metadata": {},
   "outputs": [
    {
     "name": "stdout",
     "output_type": "stream",
     "text": [
      "read\n",
      "['. Click-N-Ship®\\n', '\\n', ' 0703 S555 7490 9437 1M10D5160010012 0280\\n', '\\n', 'INSURED\\n', 'Us POSYAGE \\n', '\\n', '03/2304 1 lb 0 oz Milled from 2203 OTIVDOSOIES\\n', '\\n', 'USPS PRIORITY MAlL®\\n', '\\n', 'SUN N PATEL\\n', '1 23 AVENU E\\n', 'ARLINGTON VA 22203\\n', '\\n', '        \\n', '\\n', ' \\n', '\\n', '  \\n', '         \\n', ' \\n', '           \\n', '     \\n', '    \\n', '\\n', '  \\n', '\\n', \"SHIP '\\n\", 'T0;CARlN DOPIERALSKI\\n', 'RM 425\\n', '475 LENFANT PLZ SW\\n', '\\n', 'WASHINGTON DC 20260-0004\\n', 'InI-l!luml.|.|l.ullmllu.|I...|Im.l..l|.|..|.|u|..|.l\\n', '\\n', 'ZIP - el USPS DELIVERY CONFIRMATION“\\n', '\\n', 'llﬂlllllll II\\n', '\\n', '420 20260 9107 0385 5574 9094 3718 41\\n', '\\n', 'Eleétronic Rate Approved #038555749\\n', '\\n', 'Colon']\n"
     ]
    }
   ],
   "source": [
    "lines = [] #Declare an empty list named \"lines\"\n",
    "with open ('ocr.txt', 'r',encoding=\"utf-8\") as in_file:\n",
    "    print(\"read\")#Open file lorem.txt for reading of text data.\n",
    "    for line in in_file: #For each line of text store in a string variable named \"line\", and\n",
    "        lines.append(line)  #add that line to our list of lines.\n",
    "##########\n",
    "print(lines)        #print the list object."
   ]
  },
  {
   "cell_type": "code",
   "execution_count": 84,
   "metadata": {},
   "outputs": [
    {
     "name": "stdout",
     "output_type": "stream",
     "text": [
      "SHIP WILLIAM SMITH\n",
      " TO: ONLINE SPECIALISTS\n",
      " 2345 GLENDALE DR RM 245\n",
      "\n"
     ]
    }
   ],
   "source": [
    "print(lines[8],lines[9],lines[10])"
   ]
  },
  {
   "cell_type": "code",
   "execution_count": 41,
   "metadata": {},
   "outputs": [
    {
     "data": {
      "text/plain": [
       "50"
      ]
     },
     "execution_count": 41,
     "metadata": {},
     "output_type": "execute_result"
    }
   ],
   "source": [
    "len(lines)"
   ]
  }
 ],
 "metadata": {
  "kernelspec": {
   "display_name": "Python 3",
   "language": "python",
   "name": "python3"
  },
  "language_info": {
   "codemirror_mode": {
    "name": "ipython",
    "version": 3
   },
   "file_extension": ".py",
   "mimetype": "text/x-python",
   "name": "python",
   "nbconvert_exporter": "python",
   "pygments_lexer": "ipython3",
   "version": "3.6.4"
  }
 },
 "nbformat": 4,
 "nbformat_minor": 2
}
